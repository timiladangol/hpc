{
 "cells": [
  {
   "cell_type": "markdown",
   "metadata": {},
   "source": [
    "# Basics of Linux\n",
    "## Course Module Outline\n",
    "\n",
    "**Duration**: 50 minutes  \n",
    "**Prerequisites**: None  \n",
    "**Objective**: Introduce students to basic Linux commands, file system navigation, and an overview of SLURM for job scheduling on an HPC cluster.\n",
    "\n",
    "---\n",
    "\n",
    "## 1. Introduction to Linux\n",
    "- Brief overview of Linux as an operating system commonly used in HPC environments.\n",
    "- Linux is a command-line-driven OS, which is essential for using supercomputing resources efficiently.\n",
    "\n",
    "---\n",
    "\n",
    "## 2. Basic Linux Commands\n",
    "\n",
    "**Understanding the Command Prompt**: The information that is presented at the command prompt can be customized by the user, but here is an example of the default Ubuntu 20.04 command prompt:\n",
    "```bash\n",
    "joe@hpc:~$\n",
    "```\n",
    "**Breaking Down the Command Prompt**:\n",
    "\n",
    "* `joe`: The username of the current user\n",
    "* `hpc`: The hostname of the server\n",
    "* `~`: The current directory (expands to `/home/joe` in this case)\n",
    "* `$`: The prompt symbol, denoting the end of the command prompt and where keyboard input will appear\n",
    "\n",
    "### 2.1 Navigating the File System\n",
    "- `pwd` – Print Working Directory\n"
   ]
  },
  {
   "cell_type": "code",
   "execution_count": null,
   "metadata": {
    "vscode": {
     "languageId": "shellscript"
    }
   },
   "outputs": [],
   "source": [
    "pwd"
   ]
  },
  {
   "cell_type": "markdown",
   "metadata": {},
   "source": [
    "- `ls` –  List files in the current directory"
   ]
  },
  {
   "cell_type": "code",
   "execution_count": null,
   "metadata": {
    "vscode": {
     "languageId": "shellscript"
    }
   },
   "outputs": [],
   "source": [
    "ls"
   ]
  },
  {
   "cell_type": "markdown",
   "metadata": {},
   "source": [
    "- `cd` – Change directory"
   ]
  },
  {
   "cell_type": "code",
   "execution_count": null,
   "metadata": {
    "vscode": {
     "languageId": "shellscript"
    }
   },
   "outputs": [],
   "source": [
    "cd /path/to/directory"
   ]
  },
  {
   "cell_type": "markdown",
   "metadata": {},
   "source": [
    "### 2.2 File and Directory Management\n",
    "\n",
    "- `mkdir`  – Make a new directory"
   ]
  },
  {
   "cell_type": "code",
   "execution_count": null,
   "metadata": {
    "vscode": {
     "languageId": "shellscript"
    }
   },
   "outputs": [],
   "source": [
    "mkdir my_directory"
   ]
  },
  {
   "cell_type": "markdown",
   "metadata": {},
   "source": [
    "- `touch` – Create an empty file"
   ]
  },
  {
   "cell_type": "code",
   "execution_count": null,
   "metadata": {
    "vscode": {
     "languageId": "shellscript"
    }
   },
   "outputs": [],
   "source": [
    "touch file.txt"
   ]
  },
  {
   "cell_type": "markdown",
   "metadata": {},
   "source": [
    "- `cp` – Copy files"
   ]
  },
  {
   "cell_type": "code",
   "execution_count": null,
   "metadata": {
    "vscode": {
     "languageId": "shellscript"
    }
   },
   "outputs": [],
   "source": [
    "cp source_file.txt destination_file.txt"
   ]
  },
  {
   "cell_type": "markdown",
   "metadata": {},
   "source": [
    "- `mv` – Move (or rename) files"
   ]
  },
  {
   "cell_type": "code",
   "execution_count": null,
   "metadata": {
    "vscode": {
     "languageId": "shellscript"
    }
   },
   "outputs": [],
   "source": [
    "mv file.txt new_file.txt"
   ]
  },
  {
   "cell_type": "markdown",
   "metadata": {},
   "source": [
    "- `rm` – Remove files"
   ]
  },
  {
   "cell_type": "code",
   "execution_count": null,
   "metadata": {
    "vscode": {
     "languageId": "shellscript"
    }
   },
   "outputs": [],
   "source": [
    "rm unwanted_file.txt"
   ]
  },
  {
   "cell_type": "markdown",
   "metadata": {},
   "source": [
    "- `rmdir` – Remove empty directories"
   ]
  },
  {
   "cell_type": "code",
   "execution_count": null,
   "metadata": {
    "vscode": {
     "languageId": "shellscript"
    }
   },
   "outputs": [],
   "source": [
    "rmdir my_directory"
   ]
  },
  {
   "cell_type": "markdown",
   "metadata": {},
   "source": [
    "### 2.3 Viewing and Editing Files\n",
    "- `cat` – View contents of a file"
   ]
  },
  {
   "cell_type": "code",
   "execution_count": null,
   "metadata": {
    "vscode": {
     "languageId": "shellscript"
    }
   },
   "outputs": [],
   "source": [
    "cat file.txt"
   ]
  },
  {
   "cell_type": "markdown",
   "metadata": {},
   "source": [
    "- `less` – Scroll through a file"
   ]
  },
  {
   "cell_type": "code",
   "execution_count": null,
   "metadata": {
    "vscode": {
     "languageId": "shellscript"
    }
   },
   "outputs": [],
   "source": [
    "less file.txt"
   ]
  },
  {
   "cell_type": "markdown",
   "metadata": {},
   "source": [
    "- `nano` – Edit files with a simple text editor"
   ]
  },
  {
   "cell_type": "code",
   "execution_count": null,
   "metadata": {
    "vscode": {
     "languageId": "shellscript"
    }
   },
   "outputs": [],
   "source": [
    "nano file.txt"
   ]
  },
  {
   "cell_type": "markdown",
   "metadata": {},
   "source": [
    "### 2.4 Checking System Status\n",
    "- `df` – Check disk space usage"
   ]
  },
  {
   "cell_type": "code",
   "execution_count": null,
   "metadata": {
    "vscode": {
     "languageId": "shellscript"
    }
   },
   "outputs": [],
   "source": [
    "df -h"
   ]
  },
  {
   "cell_type": "markdown",
   "metadata": {},
   "source": [
    "- `top` – View running processes"
   ]
  },
  {
   "cell_type": "code",
   "execution_count": null,
   "metadata": {
    "vscode": {
     "languageId": "shellscript"
    }
   },
   "outputs": [],
   "source": [
    "top"
   ]
  },
  {
   "cell_type": "markdown",
   "metadata": {},
   "source": [
    "- `ps` – Display current processes"
   ]
  },
  {
   "cell_type": "code",
   "execution_count": null,
   "metadata": {
    "vscode": {
     "languageId": "shellscript"
    }
   },
   "outputs": [],
   "source": [
    "ps aux"
   ]
  },
  {
   "cell_type": "markdown",
   "metadata": {},
   "source": [
    "## 3. Introduction to Permissions\n",
    "\n",
    "### 3.1 Understanding File Permissions\n",
    "Each file in Linux has three sets of permissions:\n",
    "- Owner (user) : creator of the file\n",
    "- Group : other ussers in the same group under certain project\n",
    "- Others : users outside of the same project \n",
    "\n",
    "Permissions include:\n",
    "- Read (`r`), Write (`w`), and Execute (`x`).\n",
    "\n",
    "For example, the following output from the `ls -l` command shows a file's permissions:\n",
    "```bash\n",
    "ls -l file.txt\n",
    "\n",
    "-rwxr-xr-- 1 user group 4096 Sep 21 14:55 file.txt"
   ]
  },
  {
   "cell_type": "markdown",
   "metadata": {},
   "source": [
    "Explanation:\n",
    "\n",
    "`rwx`: The owner (user) has read, write, and execute permissions.\n",
    "`r-x`: The group has read and execute permissions, but not write.\n",
    "`r--`: Others only have read permissions."
   ]
  },
  {
   "cell_type": "markdown",
   "metadata": {},
   "source": [
    "### 3.2 Changing File Permissions\n",
    "Use the `chmod` command to modify a file's permissions.\n",
    "\n",
    "Example: Granting read, write, and execute permissions to the owner, and read-only to the group and others:"
   ]
  },
  {
   "cell_type": "code",
   "execution_count": null,
   "metadata": {
    "vscode": {
     "languageId": "shellscript"
    }
   },
   "outputs": [],
   "source": [
    "chmod 744 file.txt"
   ]
  },
  {
   "cell_type": "markdown",
   "metadata": {},
   "source": [
    "This command sets the file permissions to:\n",
    "\n",
    "Owner: Read, Write, Execute\n",
    "\n",
    "Group: Read\n",
    "\n",
    "Others: Read\n",
    "\n",
    "Using symbolic notation:"
   ]
  },
  {
   "cell_type": "code",
   "execution_count": null,
   "metadata": {
    "vscode": {
     "languageId": "shellscript"
    }
   },
   "outputs": [],
   "source": [
    "chmod u=rwx,g=r,o=r file.txt"
   ]
  },
  {
   "cell_type": "markdown",
   "metadata": {},
   "source": [
    "### 3.3 Changing File Ownership\n",
    "Use the `chown` command to change the ownership of a file.\n",
    "\n",
    "Example: Change the owner of the file to newuser and the group to newgroup:"
   ]
  },
  {
   "cell_type": "code",
   "execution_count": null,
   "metadata": {
    "vscode": {
     "languageId": "shellscript"
    }
   },
   "outputs": [],
   "source": [
    "chown newuser:newgroup file.txt"
   ]
  },
  {
   "cell_type": "markdown",
   "metadata": {},
   "source": [
    "To change only the user: "
   ]
  },
  {
   "cell_type": "code",
   "execution_count": null,
   "metadata": {
    "vscode": {
     "languageId": "shellscript"
    }
   },
   "outputs": [],
   "source": [
    "chown newuser file.txt\n"
   ]
  },
  {
   "cell_type": "markdown",
   "metadata": {},
   "source": [
    "To change only the group: "
   ]
  },
  {
   "cell_type": "code",
   "execution_count": null,
   "metadata": {
    "vscode": {
     "languageId": "shellscript"
    }
   },
   "outputs": [],
   "source": [
    "chown :newgroup file.txt"
   ]
  },
  {
   "cell_type": "markdown",
   "metadata": {},
   "source": [
    "### 3.4 IO Redirection in Linux\n",
    "\n",
    "### What is I/O redirection?\n",
    "\n",
    "I/O (Input/Output) redirection allows you to manipulate and redirect data streams in your terminal environment. (Add more screenshots next time)\n",
    "\n",
    "### Streams\n",
    "\n",
    "* **Standard Input (stdin)**: data from user's keyboard\n",
    "* **Standard Output (stdout)**: output generated by a program, displayed on the terminal\n",
    "* **Standard Error (stderr)**: errors generated by a program, also displayed on the terminal\n",
    "\n",
    "### Commands for redirection\n",
    "\n",
    "* `>`: redirects stdout to a file, overwriting existing contents\n",
    "* `>>`: redirects stdout to a file without overwriting existing contents\n",
    "* `2> filename`: redirects stderr to a file, overwriting existing contents\n",
    "* `/dev/null`: discards data redirected to it, like /dev/null pattern\n",
    "\n",
    "### Piping and filters\n",
    "\n",
    "* Pipes (`|`) redirect stdout of one command as stdin for the next command\n",
    "* Filters (e.g. `find`, `grep`, `tee`, `tr`, `wc`) manipulate data streams\n",
    "\n",
    "### Redirection Examples\n",
    "1. **Overwriting Existing Files**"
   ]
  },
  {
   "cell_type": "code",
   "execution_count": null,
   "metadata": {
    "vscode": {
     "languageId": "shellscript"
    }
   },
   "outputs": [],
   "source": [
    "echo \"Hello\" > example.txt # Expected Output: creates a new file named `example.txt` in current directory with content `Hello`"
   ]
  },
  {
   "cell_type": "markdown",
   "metadata": {},
   "source": [
    "2. **Appending Existing Files**"
   ]
  },
  {
   "cell_type": "code",
   "execution_count": null,
   "metadata": {
    "vscode": {
     "languageId": "shellscript"
    }
   },
   "outputs": [],
   "source": [
    "echo \"World!\" >> example.txt # Expected Output: appends the content `World!` to an existing file `example.txt`"
   ]
  },
  {
   "cell_type": "markdown",
   "metadata": {},
   "source": [
    "3. **Discarding Data**"
   ]
  },
  {
   "cell_type": "code",
   "execution_count": null,
   "metadata": {
    "vscode": {
     "languageId": "shellscript"
    }
   },
   "outputs": [],
   "source": [
    "cat /dev/null # Expected Output: generates no output, as if nothing was fed into `cat`"
   ]
  },
  {
   "cell_type": "markdown",
   "metadata": {},
   "source": [
    "4. **Redirecting Errors**"
   ]
  },
  {
   "cell_type": "code",
   "execution_count": null,
   "metadata": {
    "vscode": {
     "languageId": "shellscript"
    }
   },
   "outputs": [],
   "source": [
    "echo \"Error\" 2> error.txt # Expected Output: writes the content of `stderr` (in this case `Error`) to an existing file `error.txt`"
   ]
  },
  {
   "cell_type": "markdown",
   "metadata": {},
   "source": [
    "### Piping and Filtering Examples\n",
    "\n",
    "1. **Baisc Pipe**"
   ]
  },
  {
   "cell_type": "code",
   "execution_count": null,
   "metadata": {
    "vscode": {
     "languageId": "shellscript"
    }
   },
   "outputs": [],
   "source": [
    "echo \"Hello\" | grep Hello # Expected Output: searches for the string `Hello` in the standard input stream, and prints any matching lines to stdout"
   ]
  },
  {
   "cell_type": "markdown",
   "metadata": {},
   "source": [
    "2. **Find Files and Filter Output**"
   ]
  },
  {
   "cell_type": "code",
   "execution_count": null,
   "metadata": {
    "vscode": {
     "languageId": "shellscript"
    }
   },
   "outputs": [],
   "source": [
    "find . -type f | grep \"example.txt\" # Expected Output: finds in the directory (.) regular files (-type f) and filters output to anything containing \"example.txt\""
   ]
  },
  {
   "cell_type": "markdown",
   "metadata": {},
   "source": [
    "3. **Sort and Remove Duplicates**"
   ]
  },
  {
   "cell_type": "code",
   "execution_count": null,
   "metadata": {
    "vscode": {
     "languageId": "shellscript"
    }
   },
   "outputs": [],
   "source": [
    "sort example.txt | uniq > unique.txt # Expected Output: writes the sorted, non-duplicate (uniq) lines of `example.txt` to an output file `unique.txt`"
   ]
  },
  {
   "cell_type": "markdown",
   "metadata": {},
   "source": [
    "## 4. Introduction to SLURM for Job Scheduling \n",
    "\n",
    "SLURM (Simple Linux Utility for Resource Management) is a job scheduler for managing and allocating computing resources on high-performance computing (HPC) clusters.\n",
    "\n",
    "Learning SLURM is essential for anyone working with high-performance computing (HPC) clusters because it allows efficient management and scheduling of computational tasks. SLURM enables you to allocate resources like CPUs, memory, and nodes, ensuring that your jobs run smoothly and without conflict with others. It also helps automate the submission of complex jobs, manage job dependencies, and monitor resource usage, which are critical skills in optimizing computational workflows and making the most of large-scale computing environments.\n",
    "\n",
    "### 4.1 Submitting Jobs to the Cluster\n",
    "To submit a job to the SLURM job scheduler, you use the `sbatch` command along with a job script that specifies the job’s requirements.\n",
    "\n",
    "#### Example: Submitting a job script\n",
    "```bash\n",
    "sbatch job_script.sh\n"
   ]
  },
  {
   "cell_type": "markdown",
   "metadata": {},
   "source": [
    "Example of a simple job script (job_script.sh)"
   ]
  },
  {
   "cell_type": "code",
   "execution_count": null,
   "metadata": {
    "vscode": {
     "languageId": "bat"
    }
   },
   "outputs": [],
   "source": [
    "#!/bin/bash\n",
    "#SBATCH --job-name=test_job      # Job name\n",
    "#SBATCH --output=output.txt      # Output file\n",
    "#SBATCH --ntasks=1               # Number of tasks\n",
    "#SBATCH --time=00:30:00          # Time limit (hh:mm:ss)\n",
    "#SBATCH --mem=1G                 # Memory allocation\n",
    "\n",
    "# Your commands to execute\n",
    "echo \"Running job on SLURM\""
   ]
  },
  {
   "cell_type": "markdown",
   "metadata": {},
   "source": [
    "Explanation:\n",
    "\n",
    "--`job-name`: Specifies a name for the job.\n",
    "\n",
    "--`output`: The file where the job’s output will be written.\n",
    "\n",
    "--`ntasks`: Specifies how many tasks (processes) to run.\n",
    "\n",
    "--`time`: Sets the maximum time the job is allowed to run.\n",
    "\n",
    "--`mem`: Defines the amount of memory required for the job."
   ]
  },
  {
   "cell_type": "markdown",
   "metadata": {},
   "source": [
    "### 4.2 Monitoring Jobs\n",
    "Use the `squeue` command to view the status of your jobs in the queue.\n",
    "\n",
    "Example: Checking the status of your jobs"
   ]
  },
  {
   "cell_type": "code",
   "execution_count": null,
   "metadata": {
    "vscode": {
     "languageId": "shellscript"
    }
   },
   "outputs": [],
   "source": [
    "squeue -u your_username"
   ]
  },
  {
   "cell_type": "markdown",
   "metadata": {},
   "source": [
    "This command will show a list of jobs submitted by the user, along with details such as job ID, status, and run time.\n",
    "\n",
    "\n",
    "### 4.3 Canceling Jobs\n",
    "If you need to cancel a job, use the `scancel` command followed by the job ID.\n",
    "\n",
    "Example: Canceling a job"
   ]
  },
  {
   "cell_type": "code",
   "execution_count": null,
   "metadata": {
    "vscode": {
     "languageId": "shellscript"
    }
   },
   "outputs": [],
   "source": [
    "scancel 12345"
   ]
  },
  {
   "cell_type": "markdown",
   "metadata": {
    "vscode": {
     "languageId": "bat"
    }
   },
   "source": [
    "Here, `12345` is the job ID you want to cancel.\n",
    "\n",
    "\n",
    "### 4.4 Viewing Job Output\n",
    "After your job has completed, you can view the output by checking the output file specified in your job script.\n",
    "\n",
    "Example: Viewing the last 10 lines of the output file"
   ]
  },
  {
   "cell_type": "code",
   "execution_count": null,
   "metadata": {
    "vscode": {
     "languageId": "shellscript"
    }
   },
   "outputs": [],
   "source": [
    "tail -n 10 output.txt"
   ]
  },
  {
   "cell_type": "markdown",
   "metadata": {},
   "source": [
    "Example: Continuously monitoring a file as it’s being written"
   ]
  },
  {
   "cell_type": "code",
   "execution_count": null,
   "metadata": {
    "vscode": {
     "languageId": "shellscript"
    }
   },
   "outputs": [],
   "source": [
    "tail -f output.txt"
   ]
  },
  {
   "cell_type": "markdown",
   "metadata": {},
   "source": [
    "### 4.5 SLURM Job Information\n",
    "\n",
    "Use the `sacct` command to view information about current and past jobs, including the resources they used.\n",
    "\n",
    "Example: Viewing job history"
   ]
  },
  {
   "cell_type": "code",
   "execution_count": null,
   "metadata": {
    "vscode": {
     "languageId": "shellscript"
    }
   },
   "outputs": [],
   "source": [
    "sacct"
   ]
  },
  {
   "cell_type": "markdown",
   "metadata": {},
   "source": [
    "This will display a list of jobs, their IDs, state, and resource usage information (e.g., CPU time, memory used).\n",
    "\n",
    "### 4.6 SLURM Job Options\n",
    "\n",
    "There are many options you can set in your SLURM job script to control how your job runs.\n",
    "\n",
    "Common SLURM job options:\n",
    "\n",
    "Number of CPUs per task:"
   ]
  },
  {
   "cell_type": "code",
   "execution_count": null,
   "metadata": {
    "vscode": {
     "languageId": "shellscript"
    }
   },
   "outputs": [],
   "source": [
    "#SBATCH --cpus-per-task=4"
   ]
  },
  {
   "cell_type": "markdown",
   "metadata": {},
   "source": [
    "Node requirements:"
   ]
  },
  {
   "cell_type": "code",
   "execution_count": null,
   "metadata": {
    "vscode": {
     "languageId": "shellscript"
    }
   },
   "outputs": [],
   "source": [
    "#SBATCH --nodes=2"
   ]
  },
  {
   "cell_type": "markdown",
   "metadata": {},
   "source": [
    "Email notifications (sends an email when the job starts and ends):"
   ]
  },
  {
   "cell_type": "code",
   "execution_count": null,
   "metadata": {
    "vscode": {
     "languageId": "shellscript"
    }
   },
   "outputs": [],
   "source": [
    "#SBATCH --mail-type=BEGIN,END\n",
    "#SBATCH --mail-user=youremail@example.com"
   ]
  },
  {
   "cell_type": "markdown",
   "metadata": {},
   "source": [
    "### 4.7 SLURM Partitions\n",
    "\n",
    "SLURM divides resources into partitions (also known as queues). You can specify which partition to submit your job to using the --partition option.\n",
    "\n",
    "Example: Submitting a job to the long partition"
   ]
  },
  {
   "cell_type": "code",
   "execution_count": null,
   "metadata": {
    "vscode": {
     "languageId": "shellscript"
    }
   },
   "outputs": [],
   "source": [
    "#SBATCH --partition=long"
   ]
  },
  {
   "cell_type": "markdown",
   "metadata": {},
   "source": [
    "### 4.8 SLURM Job Dependencies\n",
    "\n",
    "You can set dependencies between jobs, ensuring that one job runs only after another has completed.\n",
    "\n",
    "Example: Submitting a job with a dependency on job `12345`"
   ]
  },
  {
   "cell_type": "code",
   "execution_count": null,
   "metadata": {
    "vscode": {
     "languageId": "shellscript"
    }
   },
   "outputs": [],
   "source": [
    "sbatch --dependency=afterok:12345 job_script.sh"
   ]
  },
  {
   "cell_type": "markdown",
   "metadata": {},
   "source": [
    "This will only run `job_script.sh` after job `12345` has completed successfully."
   ]
  },
  {
   "cell_type": "markdown",
   "metadata": {},
   "source": [
    "### Summary\n",
    "\n",
    "SLURM allows efficient management and scheduling of jobs on an HPC cluster. We have covered basic SLURM commands such as `sbatch`, `squeue`, `scancel`, and job script options for controlling resources, monitoring, and managing jobs."
   ]
  },
  {
   "cell_type": "markdown",
   "metadata": {},
   "source": [
    "### **Frequently Asked Questions** \n",
    "\n",
    "1. **What is Ubuntu 20.04?**\n",
    "\n",
    "**Answer:** Ubuntu 20.04 is a version of the popular Linux operating system. It is built on the Linux 5.4 kernel and comes with updated versions of popular software like GNOME 3.36, Python 3.8, etc.\n",
    "\n",
    "\n",
    "2. **Is it possible to create multiple empty files at once?** \n",
    "\n",
    "**Answer:** Yes, it is possible to create multiple empty files at once. The command can be shown below: \n",
    "\n",
    "*touch File1_name File2_name File3_name*\n",
    "\n",
    "\n",
    "3. **When you copy a file using cp command, does the destination file have to be created before the cp command?** \n",
    "\n",
    "**Answer:** No, the destination file does not need to exist beforehand. It is created automatically when cp command is executed. \n",
    "\n",
    "\n",
    "\n",
    "4. **When you remove directories, is it permanently deleted from memory?** \n",
    "\n",
    "**Answer:** Yes, it is permanently deleted from the file system. However, the data is not immediately erased from memory. In some cases, data recovery tools may be able to retrieve it unless overwritten.\n",
    "\n",
    "\n",
    "\n",
    "5. **What is a job scheduling?** \n",
    "\n",
    "**Answer:** Job scheduling is process of managing and scheduling jobs to be executed at specified times or in a specific sequence. A job scheduler allocates resources, prioritizes jobs, and executes them. \n",
    "\n",
    "\n",
    "\n",
    "6. **How is a job different from a process?**\n",
    "\n",
    "**Answer:** A job is a task scheduled to run at a specific time, while a process is the action that takes place when the job is actually being carried out by the computer, like a program running on your system. In simple terms, a job is the plan, and a process is the action.\n",
    "\n",
    "\n",
    "\n",
    "7. **How do we get a job ID?** \n",
    "\n",
    "**Answer:** We can get a job ID by using jobs command. The command displays jobs with their job IDs, status, and command. \n",
    "\n",
    "*Command:*\n",
    "\n",
    "jobs \n",
    "\n",
    "\n",
    "*Example Output:*\n",
    "\n",
    "[1]+    Running        sleep 500\n",
    "\n",
    "\n",
    "\n",
    "\n",
    "8. **Is the data discarded by /dev/null completely erased from the memory?** \n",
    "\n",
    "**Answer:** Yes. All data written to /dev/null are immediately discarded and it's never stored anywhere. \n",
    "\n",
    "\n",
    "9. **Can I use nano to edit binary files, or is it only for text files?**\n",
    "\n",
    "**Answer:** Nano is primarily designed for editing text files, but you can open binary files with it. However, nano will display the binary content as a mix of readable characters and random symbols. This makes it difficult to interpret. For editing binary files, specialized tools like a hex editor are used.\n",
    "\n",
    "\n",
    "10. **Can I undo the rm command if I delete something by mistake?**\n",
    "\n",
    "**Answer:** No, you cannot undo the rm command once a file has been deleted. The rm command permanently removes files and does not send them to the trash or recycle bin. To avoid accidental deletion, you can use:\n",
    "\n",
    "rm -i: This option prompts you for confirmation before deleting files, preventing mistakes.\n",
    "\n",
    "\n",
    "11. **Why and how is SLURM partition done?**\n",
    "\n",
    "**Answer:** SLURM partitioning organizes compute nodes into groups based on factors like hardware, job priority, or workload type. This helps manage workloads more efficiently and ensures that jobs are assigned to the right nodes. Partitions are defined in the SLURM configuration, and users select the appropriate partition when submitting jobs. This ensures that jobs get the right resources for optimal performance.\n",
    "\n"
   ]
  },
  {
   "cell_type": "markdown",
   "metadata": {},
   "source": [
    "\n",
    "This section covers the basic usage of SLURM for job submission, monitoring, canceling, and managing resources on an HPC cluster.\n"
   ]
  }
 ],
 "metadata": {
  "language_info": {
   "name": "python"
  }
 },
 "nbformat": 4,
 "nbformat_minor": 2
}
