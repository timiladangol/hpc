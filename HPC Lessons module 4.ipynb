{
 "cells": [
  {
   "cell_type": "markdown",
   "metadata": {},
   "source": [
    "### **Module 4: Advanced HPC Usage and Optimization**\n",
    "- **Parallel Computing Basics:** Introduction to parallel computing concepts, including MPI (Message Passing Interface) and OpenMP.\n",
    "- **Advanced Job Scheduling:** Explore advanced job scheduling techniques, including array jobs and job dependencies.\n",
    "- **Resource Management:** Learn how to manage HPC resources efficiently, including CPU, memory, and storage allocation.\n",
    "- **Performance Tuning:** Techniques for tuning the performance of applications running on HPC clusters.\n",
    "- **Scaling Up:** Strategies for scaling tasks to make full use of HPC resources.\n",
    "\n",
    "**Learning Outcome:** Students will be able to utilize advanced HPC features, optimize performance, and manage resources effectively.\n",
    "\n",
    "---"
   ]
  },
  {
   "cell_type": "markdown",
   "metadata": {},
   "source": [
    "**Parallel Computing Basics**\n",
    "Introduction to Parallel Computing\n",
    "Parallel computing involves dividing a large problem into smaller tasks, which can be processed simultaneously to reduce computation time. Two common models for parallel computing are:\n",
    "\n",
    "MPI (Message Passing Interface): Used for parallelizing applications across multiple nodes in a cluster.\n",
    "OpenMP: Used for parallelizing applications within a single shared-memory node."
   ]
  },
  {
   "cell_type": "code",
   "execution_count": null,
   "metadata": {
    "vscode": {
     "languageId": "plaintext"
    }
   },
   "outputs": [],
   "source": [
    "# Let's create a simple MPI program in C that sends a message from one process to another.\n",
    "\n",
    "# Install MPI library if not installed\n",
    "sudo apt-get install mpich\n",
    "\n",
    "# Save the following code in a file named `mpi_hello.c`\n",
    "\n",
    "#include <mpi.h>\n",
    "#include <stdio.h>\n",
    "\n",
    "int main(int argc, char** argv) \n",
    "{\n",
    "    MPI_Init(NULL, NULL);\n",
    "\n",
    "    int world_rank;\n",
    "    MPI_Comm_rank(MPI_COMM_WORLD, &world_rank);\n",
    "\n",
    "    int world_size;\n",
    "    MPI_Comm_size(MPI_COMM_WORLD, &world_size);\n",
    "\n",
    "    if (world_rank == 0) \n",
    "    {\n",
    "        char greeting[100] = \"Hello from process 0\";\n",
    "        MPI_Send(greeting, 100, MPI_CHAR, 1, 0, MPI_COMM_WORLD);\n",
    "    } \n",
    "    else if (world_rank == 1) \n",
    "    {\n",
    "        char greeting[100];\n",
    "        MPI_Recv(greeting, 100, MPI_CHAR, 0, 0, MPI_COMM_WORLD, MPI_STATUS_IGNORE);\n",
    "        printf(\"Process 1 received: %s\\n\", greeting);\n",
    "    }\n",
    "\n",
    "    MPI_Finalize();\n",
    "    return 0;\n",
    "}\n",
    "\n",
    "/*# Compile and run the MPI program\n",
    "\n",
    "mpicc -o mpi_hello mpi_hello.c\n",
    "mpirun -np 2 ./mpi_hello*/\n"
   ]
  },
  {
   "cell_type": "code",
   "execution_count": null,
   "metadata": {
    "vscode": {
     "languageId": "plaintext"
    }
   },
   "outputs": [],
   "source": [
    "//# Let's write a simple OpenMP program in C to parallelize a loop.\n",
    "\n",
    "//# Save the following code in a file named `omp_hello.c`\n",
    "\n",
    "#include <omp.h>\n",
    "#include <stdio.h>\n",
    "\n",
    "int main() \n",
    "{\n",
    "    int n = 1000;\n",
    "    int sum = 0;\n",
    "\n",
    "    #pragma omp parallel for reduction(+:sum)\n",
    "    for (int i = 0; i < n; i++) \n",
    "    {\n",
    "        sum += i;\n",
    "    }\n",
    "\n",
    "    printf(\"Sum is %d\\n\", sum);\n",
    "    return 0;\n",
    "}\n",
    "\n",
    "/*# Compile and run the OpenMP program\n",
    "\n",
    "gcc -fopenmp -o omp_hello omp_hello.c\n",
    "./omp_hello*/\n"
   ]
  },
  {
   "cell_type": "markdown",
   "metadata": {},
   "source": [
    "**Advanced Job Scheduling**\n",
    "\n",
    "**Array Jobs**\n",
    "\n",
    "Array jobs allow you to submit a series of similar jobs with a single command. Each job in the array runs independently, and the scheduler assigns each job a unique index."
   ]
  },
  {
   "cell_type": "code",
   "execution_count": null,
   "metadata": {
    "vscode": {
     "languageId": "plaintext"
    }
   },
   "outputs": [],
   "source": [
    "#Array jobs allow you to submit a series of \n",
    "#similar jobs with a single command. \n",
    "#Each job in the array runs independently, \n",
    "#and the scheduler assigns each job a unique index.\n",
    "# Example SLURM script for array jobs\n",
    "\n",
    "#!/bin/bash\n",
    "#SBATCH --job-name=array_job\n",
    "#SBATCH --array=1-10\n",
    "#SBATCH --output=array_job_%A_%a.out\n",
    "#SBATCH --error=array_job_%A_%a.err\n",
    "\n",
    "echo \"Job ID: $SLURM_ARRAY_JOB_ID, Task ID: $SLURM_ARRAY_TASK_ID\""
   ]
  },
  {
   "cell_type": "code",
   "execution_count": null,
   "metadata": {
    "vscode": {
     "languageId": "plaintext"
    }
   },
   "outputs": [],
   "source": [
    "# Job dependencies ensure that \n",
    "# certain jobs only run after other jobs have completed.\n",
    "# Example SLURM script to submit jobs with dependencies\n",
    "\n",
    "# Submit the first job and save its job ID\n",
    "job1_id=$(sbatch --parsable job1.sh)\n",
    "\n",
    "# Submit the second job to run after the first job completes\n",
    "sbatch --dependency=afterok:$job1_id job2.sh\n"
   ]
  },
  {
   "cell_type": "markdown",
   "metadata": {},
   "source": [
    "**Resource Management**\n",
    "\n",
    "Efficient resource management is crucial for maximizing HPC performance and minimizing costs.\n",
    "\n",
    "CPU Allocation -- Specify the number of CPUs per task and total CPUs required."
   ]
  },
  {
   "cell_type": "code",
   "execution_count": null,
   "metadata": {
    "vscode": {
     "languageId": "plaintext"
    }
   },
   "outputs": [],
   "source": [
    "#SBATCH --ntasks=4\n",
    "#SBATCH --cpus-per-task=2\n"
   ]
  },
  {
   "cell_type": "markdown",
   "metadata": {},
   "source": [
    "Memory Allocation -- Specify the amount of memory required per CPU or per node."
   ]
  },
  {
   "cell_type": "code",
   "execution_count": null,
   "metadata": {
    "vscode": {
     "languageId": "plaintext"
    }
   },
   "outputs": [],
   "source": [
    "#SBATCH --mem-per-cpu=4G"
   ]
  },
  {
   "cell_type": "markdown",
   "metadata": {},
   "source": [
    "Storage Allocation -- Ensure you request sufficient storage space and manage it properly within your jobs."
   ]
  },
  {
   "cell_type": "code",
   "execution_count": null,
   "metadata": {
    "vscode": {
     "languageId": "plaintext"
    }
   },
   "outputs": [],
   "source": [
    "# Request 100GB of storage\n",
    "#SBATCH --tmp=100G### "
   ]
  },
  {
   "cell_type": "markdown",
   "metadata": {},
   "source": [
    "### **Frequently Asked Questions**\n",
    "\n",
    "1. **Can I use MPI for communication between processes on a single node, or is it only for multiple nodes?** \n",
    "\n",
    "**Answer:** Yes, MPI can be used for communication between processes on a single node as well as across multiple nodes. MPI allows processes to communicate using message passing, which can be done on one node or across multiple nodes, depending on your configuration.\n",
    "\n",
    "\n",
    "2. **How do I check the status of my array jobs?**\n",
    "\n",
    "**Answer:** You can check the status of your array jobs using the squeue command:\n",
    "\n",
    "squeue -u <your_username>\n",
    "\n",
    "\n",
    "3. **How do I decide how many CPUs to request for my task?**  //DO NOT KNOW THE ANSWER \n",
    "\n",
    "**Answer:** \n",
    "\n",
    "\n",
    "4. **What if I don't have enough memory allocated, or what happens if I exceed the allocated memory limit?** \n",
    "\n",
    "**Answer:**  If the program doesn’t have enough memory, it will likely crash or terminate with an out-of-memory error.\n",
    "If the program exceeds the allocated memory, the system may kill your job to prevent other jobs from being affected.\n",
    "\n",
    "\n",
    "5. **How do I find out how much storage space is available for my job** \n",
    "\n",
    "**Answer:** To check available storage space, use the df -h command to check disk usage for available directories.\n"
   ]
  }
 ],
 "metadata": {
  "language_info": {
   "name": "python"
  }
 },
 "nbformat": 4,
 "nbformat_minor": 2
}
